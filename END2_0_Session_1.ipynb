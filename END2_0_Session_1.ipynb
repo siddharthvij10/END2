{
  "nbformat": 4,
  "nbformat_minor": 0,
  "metadata": {
    "colab": {
      "name": "END2.0 Session 1.ipynb",
      "provenance": []
    },
    "kernelspec": {
      "name": "python3",
      "display_name": "Python 3"
    },
    "language_info": {
      "name": "python"
    }
  },
  "cells": [
    {
      "cell_type": "code",
      "metadata": {
        "colab": {
          "base_uri": "https://localhost:8080/"
        },
        "id": "GC_6PeobwwkH",
        "outputId": "73310a7e-c2fc-4631-9817-7a88ca369d40"
      },
      "source": [
        "import torch\n",
        "from torch.autograd import Variable\n",
        "import torch.nn as nn\n",
        "import torch.nn.functional as F\n",
        "import torch.optim as optim\n",
        "import numpy as np\n",
        "import matplotlib.pyplot as plt\n",
        "%matplotlib inline\n",
        "torch.manual_seed(2)"
      ],
      "execution_count": 141,
      "outputs": [
        {
          "output_type": "execute_result",
          "data": {
            "text/plain": [
              "<torch._C.Generator at 0x7f399537ca90>"
            ]
          },
          "metadata": {},
          "execution_count": 141
        }
      ]
    },
    {
      "cell_type": "code",
      "metadata": {
        "id": "bL64bMTkw2GP"
      },
      "source": [
        "X = torch.Tensor([[0,0], [0,1], [1,0], [1,1]])\n",
        "Y = torch.Tensor([0, 1, 1, 0]).view(-1,1)"
      ],
      "execution_count": 142,
      "outputs": []
    },
    {
      "cell_type": "code",
      "metadata": {
        "colab": {
          "base_uri": "https://localhost:8080/"
        },
        "id": "hJ3jG-rR_Jfk",
        "outputId": "17a1ba69-8ac6-4432-aff4-61b65786090d"
      },
      "source": [
        "print(X)\n",
        "print(Y)"
      ],
      "execution_count": 143,
      "outputs": [
        {
          "output_type": "stream",
          "name": "stdout",
          "text": [
            "tensor([[0., 0.],\n",
            "        [0., 1.],\n",
            "        [1., 0.],\n",
            "        [1., 1.]])\n",
            "tensor([[0.],\n",
            "        [1.],\n",
            "        [1.],\n",
            "        [0.]])\n"
          ]
        }
      ]
    },
    {
      "cell_type": "code",
      "metadata": {
        "id": "aC82kEAIw3Wf"
      },
      "source": [
        "class XOR(nn.Module):\n",
        "    def __init__(self, input_dim = 2, output_dim=1):\n",
        "        super(XOR, self).__init__()\n",
        "        self.lin1 = nn.Linear(input_dim, 14, bias=False) \n",
        "        # self.lin11 = nn.Linear(x, y)\n",
        "        self.lin2 = nn.Linear(14, 1, bias=False)\n",
        "        self.lin3 = nn.Linear(1, output_dim)\n",
        "    \n",
        "    def forward(self, x):\n",
        "        x = self.lin1(x)\n",
        "        x = F.tanh(x)\n",
        "        x = self.lin2(x)\n",
        "        x = F.tanh(x)\n",
        "        x = self.lin3(x)\n",
        "        # x = F.tanh(x)\n",
        "        return x"
      ],
      "execution_count": 144,
      "outputs": []
    },
    {
      "cell_type": "code",
      "metadata": {
        "colab": {
          "base_uri": "https://localhost:8080/"
        },
        "id": "8gQIQExYw65K",
        "outputId": "8f08f746-6a14-4ff6-c809-d128932c196f"
      },
      "source": [
        "model = XOR()\n",
        "print(model)\n",
        "from torchsummary import summary\n",
        "summary(model, (2,2))\n",
        "# 2(input)*2+2*1(output) + 2 + 1(node in output) = 9.....................2x+x+x+1 = 44......4x=43.....x=\n",
        "# 2x+xy+y + x+y+1 = 44..................3x+2y+xy=43............9+2y+3y=43....5y=36.................12+6y=43"
      ],
      "execution_count": 145,
      "outputs": [
        {
          "output_type": "stream",
          "name": "stdout",
          "text": [
            "XOR(\n",
            "  (lin1): Linear(in_features=2, out_features=14, bias=False)\n",
            "  (lin2): Linear(in_features=14, out_features=1, bias=False)\n",
            "  (lin3): Linear(in_features=1, out_features=1, bias=True)\n",
            ")\n",
            "----------------------------------------------------------------\n",
            "        Layer (type)               Output Shape         Param #\n",
            "================================================================\n",
            "            Linear-1                [-1, 2, 14]              28\n",
            "            Linear-2                 [-1, 2, 1]              14\n",
            "            Linear-3                 [-1, 2, 1]               2\n",
            "================================================================\n",
            "Total params: 44\n",
            "Trainable params: 44\n",
            "Non-trainable params: 0\n",
            "----------------------------------------------------------------\n",
            "Input size (MB): 0.00\n",
            "Forward/backward pass size (MB): 0.00\n",
            "Params size (MB): 0.00\n",
            "Estimated Total Size (MB): 0.00\n",
            "----------------------------------------------------------------\n"
          ]
        },
        {
          "output_type": "stream",
          "name": "stderr",
          "text": [
            "/usr/local/lib/python3.7/dist-packages/torch/nn/functional.py:1794: UserWarning: nn.functional.tanh is deprecated. Use torch.tanh instead.\n",
            "  warnings.warn(\"nn.functional.tanh is deprecated. Use torch.tanh instead.\")\n"
          ]
        }
      ]
    },
    {
      "cell_type": "code",
      "metadata": {
        "id": "yeotEq19x6XF"
      },
      "source": [
        "def weights_init(model):\n",
        "    for m in model.modules():\n",
        "        if isinstance(m, nn.Linear):\n",
        "            # initialize the weight tensor, here we use a normal distribution\n",
        "            m.weight.data.normal_(0, 1)\n",
        "\n",
        "weights_init(model)"
      ],
      "execution_count": 146,
      "outputs": []
    },
    {
      "cell_type": "code",
      "metadata": {
        "id": "WrD_sNzLx78e"
      },
      "source": [
        "loss_func = nn.L1Loss()"
      ],
      "execution_count": 147,
      "outputs": []
    },
    {
      "cell_type": "code",
      "metadata": {
        "id": "-zvbrMd2x_lA"
      },
      "source": [
        "optimizer = optim.SGD(model.parameters(), lr=0.02, momentum=0.9)\n"
      ],
      "execution_count": 148,
      "outputs": []
    },
    {
      "cell_type": "code",
      "metadata": {
        "colab": {
          "base_uri": "https://localhost:8080/"
        },
        "id": "q7tWa3D7yA5X",
        "outputId": "5d8af0ca-5b64-498a-c2df-796dbc335e32"
      },
      "source": [
        "epochs = 2000\n",
        "steps = X.size(0)\n",
        "for i in range(epochs):\n",
        "    for j in range(steps):\n",
        "        data_point = np.random.randint(X.size(0))\n",
        "        x_var = Variable(X[data_point], requires_grad=False)\n",
        "        y_var = Variable(Y[data_point], requires_grad=False)\n",
        "        \n",
        "        optimizer.zero_grad()\n",
        "        y_hat = model(x_var)\n",
        "        loss = loss_func.forward(y_hat, y_var)\n",
        "        loss.backward()\n",
        "        optimizer.step()\n",
        "        \n",
        "    if i % 50 == 0:\n",
        "        print( \"Epoch: {0}, Loss: {1}, \".format(i, loss.data.numpy()))"
      ],
      "execution_count": 149,
      "outputs": [
        {
          "output_type": "stream",
          "name": "stdout",
          "text": [
            "Epoch: 0, Loss: 0.3926357924938202, \n",
            "Epoch: 50, Loss: 0.032935500144958496, \n"
          ]
        },
        {
          "output_type": "stream",
          "name": "stderr",
          "text": [
            "/usr/local/lib/python3.7/dist-packages/torch/nn/functional.py:1794: UserWarning: nn.functional.tanh is deprecated. Use torch.tanh instead.\n",
            "  warnings.warn(\"nn.functional.tanh is deprecated. Use torch.tanh instead.\")\n"
          ]
        },
        {
          "output_type": "stream",
          "name": "stdout",
          "text": [
            "Epoch: 100, Loss: 0.5070735216140747, \n",
            "Epoch: 150, Loss: 0.0326077938079834, \n",
            "Epoch: 200, Loss: 0.28875458240509033, \n",
            "Epoch: 250, Loss: 0.03543198108673096, \n",
            "Epoch: 300, Loss: 0.9353668689727783, \n",
            "Epoch: 350, Loss: 0.3084842562675476, \n",
            "Epoch: 400, Loss: 0.031228478997945786, \n",
            "Epoch: 450, Loss: 0.008793473243713379, \n",
            "Epoch: 500, Loss: 0.13754035532474518, \n",
            "Epoch: 550, Loss: 0.13111555576324463, \n",
            "Epoch: 600, Loss: 0.6446955800056458, \n",
            "Epoch: 650, Loss: 0.42295926809310913, \n",
            "Epoch: 700, Loss: 0.20489197969436646, \n",
            "Epoch: 750, Loss: 0.12056702375411987, \n",
            "Epoch: 800, Loss: 0.018179969862103462, \n",
            "Epoch: 850, Loss: 0.42272111773490906, \n",
            "Epoch: 900, Loss: 0.9299957156181335, \n",
            "Epoch: 950, Loss: 0.9520682692527771, \n",
            "Epoch: 1000, Loss: 0.040443480014801025, \n",
            "Epoch: 1050, Loss: 0.47397559881210327, \n",
            "Epoch: 1100, Loss: 0.8386331796646118, \n",
            "Epoch: 1150, Loss: 0.1603049635887146, \n",
            "Epoch: 1200, Loss: 0.11122001707553864, \n",
            "Epoch: 1250, Loss: 0.29957640171051025, \n",
            "Epoch: 1300, Loss: 0.33010295033454895, \n",
            "Epoch: 1350, Loss: 0.47668033838272095, \n",
            "Epoch: 1400, Loss: 0.5321940779685974, \n",
            "Epoch: 1450, Loss: 0.3592674434185028, \n",
            "Epoch: 1500, Loss: 0.2239401489496231, \n",
            "Epoch: 1550, Loss: 0.05788552388548851, \n",
            "Epoch: 1600, Loss: 0.46176034212112427, \n",
            "Epoch: 1650, Loss: 0.30367034673690796, \n",
            "Epoch: 1700, Loss: 0.349020779132843, \n",
            "Epoch: 1750, Loss: 0.10384669154882431, \n",
            "Epoch: 1800, Loss: 0.14722752571105957, \n",
            "Epoch: 1850, Loss: 0.05018740892410278, \n",
            "Epoch: 1900, Loss: 0.06108325719833374, \n",
            "Epoch: 1950, Loss: 0.49014657735824585, \n"
          ]
        }
      ]
    },
    {
      "cell_type": "code",
      "metadata": {
        "id": "QV0dIdveyCRi"
      },
      "source": [
        ""
      ],
      "execution_count": 149,
      "outputs": []
    }
  ]
}